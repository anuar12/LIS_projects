{
 "cells": [
  {
   "cell_type": "code",
   "execution_count": 2,
   "metadata": {
    "collapsed": false
   },
   "outputs": [
    {
     "name": "stderr",
     "output_type": "stream",
     "text": [
      "/Users/Anuar_The_Great/anaconda/lib/python2.7/site-packages/matplotlib/font_manager.py:273: UserWarning: Matplotlib is building the font cache using fc-list. This may take a moment.\n",
      "  warnings.warn('Matplotlib is building the font cache using fc-list. This may take a moment.')\n"
     ]
    }
   ],
   "source": [
    "%matplotlib inline\n",
    "from ggplot import *\n",
    "from __future__ import print_function\n",
    "import numpy as np\n",
    "from matplotlib import pyplot as plt\n",
    "\n",
    "import sklearn.linear_model as sklin\n",
    "import sklearn.metrics as skmet\n",
    "import sklearn.cross_validation as skcv\n",
    "import sklearn.grid_search as skgs\n",
    "import sklearn.preprocessing as skpr\n",
    "from sklearn.linear_model import Ridge\n",
    "import pandas as pd\n",
    "from sklearn.svm import SVR\n",
    "from sklearn.linear_model.stochastic_gradient import SGDRegressor"
   ]
  },
  {
   "cell_type": "code",
   "execution_count": 3,
   "metadata": {
    "collapsed": false
   },
   "outputs": [],
   "source": [
    "train = np.loadtxt(open(\"/Users/Anuar_The_Great/Desktop/Project/1/train.csv\", \"rb\"), \n",
    "                    delimiter=\",\", skiprows=1)\n",
    "test0 = np.loadtxt(open(\"/Users/Anuar_The_Great/Desktop/Project/1/test.csv\", \"rb\"), \n",
    "                    delimiter=\",\", skiprows=1)"
   ]
  },
  {
   "cell_type": "code",
   "execution_count": 4,
   "metadata": {
    "collapsed": false
   },
   "outputs": [
    {
     "data": {
      "image/png": "[encoded data removed]",
      "text/plain": [
       "<matplotlib.figure.Figure at 0x103f40e50>"
      ]
     },
     "metadata": {},
     "output_type": "display_data"
    }
   ],
   "source": [
    "plt.hist(test0[:,6], bins=15)\n",
    "plt.hist(train[:,6], bins=15)\n",
    "\n",
    "# Getting rid of the outlier\n",
    "train[207,:]\n",
    "train = np.delete(train, 207, 0)"
   ]
  },
  {
   "cell_type": "code",
   "execution_count": 5,
   "metadata": {
    "collapsed": false
   },
   "outputs": [
    {
     "name": "stdout",
     "output_type": "stream",
     "text": [
      "X.shape (899, 15)\n",
      "test.shape (2000, 15)\n",
      "\n",
      "After Poly Transformation:\n",
      "X.shape (899, 816)\n",
      "Y.shape (899,)\n",
      "test.shape (2000, 816)\n"
     ]
    }
   ],
   "source": [
    "# Add squared terms\n",
    "def get_features(data):\n",
    "    return np.hstack((data, data*data)) \n",
    "\n",
    "\n",
    "X = train[:, 2:17]\n",
    "test = test0[:, 1:16]\n",
    "print(\"X.shape\", X.shape)\n",
    "print('test.shape', test.shape)\n",
    "\n",
    "Y = train[:, 1]\n",
    "\n",
    "# Adding Polynomial features to the data\n",
    "poly = skpr.PolynomialFeatures(degree=3, interaction_only=False)\n",
    "X = poly.fit_transform(X) \n",
    "poly = skpr.PolynomialFeatures(degree=3, interaction_only=False)\n",
    "test = poly.fit_transform(test)\n",
    "\n",
    "print(\"\\nAfter Poly Transformation:\")\n",
    "print('X.shape', X.shape)\n",
    "print('Y.shape', Y.shape)\n",
    "print('test.shape', test.shape)"
   ]
  },
  {
   "cell_type": "code",
   "execution_count": 6,
   "metadata": {
    "collapsed": false
   },
   "outputs": [],
   "source": [
    "# Returns -Sqrt Mean Squared Error\n",
    "def score(gtruth, pred):\n",
    "    diff = gtruth - pred\n",
    "    return -np.sqrt(np.mean(np.square(diff)))\n",
    "\n",
    "scorefun = skmet.make_scorer(score)\n",
    "neg_scorefun = skmet.make_scorer(lambda x, y: -score(x, y))"
   ]
  },
  {
   "cell_type": "code",
   "execution_count": 7,
   "metadata": {
    "collapsed": false
   },
   "outputs": [
    {
     "name": "stdout",
     "output_type": "stream",
     "text": [
      "Training Error:  -4.7068583317\n",
      "Test Error:  -18.6073967708\n"
     ]
    }
   ],
   "source": [
    "# First we will try solving Normal Equation\n",
    "beta = np.linalg.solve(X.T.dot(X) + 20*np.eye(X.shape[1]), X.T.dot(Y))\n",
    "\n",
    "print(\"Training Error: \", score(Y, beta.dot(X.T)))\n",
    "\n",
    "X_train, X_test, y_train, y_test = skcv.train_test_split(\n",
    "    X, Y, test_size=0.3, random_state=0)\n",
    "beta = np.linalg.solve(X_train.T.dot(X_train) + \n",
    "                       125*np.eye(X_train.shape[1]), X_train.T.dot(y_train))\n",
    "print(\"Test Error: \", score(y_test, X_test.dot(beta)))"
   ]
  },
  {
   "cell_type": "code",
   "execution_count": 39,
   "metadata": {
    "collapsed": false
   },
   "outputs": [],
   "source": [
    "# Now we will try SGD and Ridge Regression. In order to find optimal parameters\n",
    "# we will use grid search.\n",
    "\n",
    "param_grid = {'alpha': [1, 5, 10, 30, 50, 75, 100, 150, 200, 300, 750, 1000, 3000]}\n",
    "param_grid = {'alpha': np.linspace(10, 200, 8),\n",
    "             'l1_ratio': [ 0.3, 0.7],\n",
    "             'power_t': [0.3, 0.6],\n",
    "             'epsilon': [ 0.1, 1]}\n",
    "\n",
    "sgd = SGDRegressor(average=False, eta0=0.01,\n",
    "       fit_intercept=True, learning_rate='invscaling',\n",
    "       loss='squared_loss', n_iter=5, penalty='elasticnet',\n",
    "       random_state=None, shuffle=True, verbose=1, warm_start=False)"
   ]
  },
  {
   "cell_type": "code",
   "execution_count": 40,
   "metadata": {
    "collapsed": false
   },
   "outputs": [
    {
     "data": {
      "text/plain": [
       "GridSearchCV(cv=5, error_score='raise',\n",
       "       estimator=SGDRegressor(alpha=0.0001, average=False, epsilon=0.1, eta0=0.01,\n",
       "       fit_intercept=True, l1_ratio=0.15, learning_rate='invscaling',\n",
       "       loss='squared_loss', n_iter=5, penalty='elasticnet', power_t=0.25,\n",
       "       random_state=None, shuffle=True, verbose=1, warm_start=False),\n",
       "       fit_params={}, iid=True, n_jobs=1,\n",
       "       param_grid={'alpha': array([  10.     ,   37.14286,   64.28571,   91.42857,  118.57143,\n",
       "        145.71429,  172.85714,  200.     ]), 'power_t': [0.3, 0.6], 'epsilon': [0.1, 1], 'l1_ratio': [0.3, 0.7]},\n",
       "       pre_dispatch='2*n_jobs', refit=True, scoring=make_scorer(score),\n",
       "       verbose=0)"
      ]
     },
     "execution_count": 40,
     "metadata": {},
     "output_type": "execute_result"
    }
   ],
   "source": [
    "%%capture\n",
    "grid_search = skgs.GridSearchCV(sgd, param_grid, scoring=scorefun, cv=5)\n",
    "grid_search.fit(X, Y)"
   ]
  },
  {
   "cell_type": "code",
   "execution_count": 42,
   "metadata": {
    "collapsed": false
   },
   "outputs": [
    {
     "name": "stdout",
     "output_type": "stream",
     "text": [
      "SGDRegressor(alpha=10.0, average=False, epsilon=1, eta0=0.01,\n",
      "       fit_intercept=True, l1_ratio=0.7, learning_rate='invscaling',\n",
      "       loss='squared_loss', n_iter=5, penalty='elasticnet', power_t=0.6,\n",
      "       random_state=None, shuffle=True, verbose=1, warm_start=False)\n",
      "\n",
      "Best Score:  -47.56570384\n"
     ]
    }
   ],
   "source": [
    "print(grid_search.best_estimator_)\n",
    "print(\"\\nBest Score: \", grid_search.best_score_)\n",
    "#print(grid_search.grid_scores_)"
   ]
  },
  {
   "cell_type": "code",
   "execution_count": 11,
   "metadata": {
    "collapsed": false
   },
   "outputs": [
    {
     "name": "stdout",
     "output_type": "stream",
     "text": [
      "-41.619227188\n",
      "-28.7511971242\n",
      "-24.7789122776\n",
      "-20.1844593461\n",
      "-18.7773998286\n",
      "-17.9989791188\n",
      "-17.623501629\n",
      "-17.3249628362\n",
      "-17.2589906467\n",
      "-17.3392319241\n",
      "-18.0943077258\n",
      "-18.4624071162\n",
      "-20.3559479051\n"
     ]
    }
   ],
   "source": [
    "# Iteration through the list of alphas and generation of accuracy from the testing set\n",
    "alpha_list = [1, 5, 10, 30, 50, 75, 100, 150, 200, 300, 750, 1000, 3000]\n",
    "scores_df = pd.DataFrame(alpha_list, columns=['alphas'])\n",
    "scores_df['values'] = 1\n",
    "for i, alpha_num in enumerate(alpha_list):\n",
    "    lr = Ridge(alpha=alpha_num, tol=0.001, solver='auto')\n",
    "    #lr.fit(X, Y)\n",
    "    #Xtrain, Xtest, Ytrain, Ytest = skcv.train_test_split(X, Y, train_size=0.70)\n",
    "    scores = skcv.cross_val_score(lr, X, Y, scoring=scorefun, cv=10)\n",
    "    fn_score = np.mean(scores)\n",
    "    print(fn_score)\n",
    "    scores_df.iloc[i, 1] = fn_score"
   ]
  },
  {
   "cell_type": "code",
   "execution_count": 12,
   "metadata": {
    "collapsed": false
   },
   "outputs": [
    {
     "name": "stderr",
     "output_type": "stream",
     "text": [
      "/Users/Anuar_The_Great/anaconda/lib/python2.7/site-packages/matplotlib/__init__.py:872: UserWarning: axes.color_cycle is deprecated and replaced with axes.prop_cycle; please use the latter.\n",
      "  warnings.warn(self.msg_depr % (key, alt_key))\n"
     ]
    },
    {
     "data": {
      "image/png": "[encoded data removed]",
      "text/plain": [
       "<matplotlib.figure.Figure at 0x1180a3c90>"
      ]
     },
     "metadata": {},
     "output_type": "display_data"
    },
    {
     "data": {
      "text/plain": [
       "<ggplot: (293643245)>"
      ]
     },
     "execution_count": 12,
     "metadata": {},
     "output_type": "execute_result"
    }
   ],
   "source": [
    "ggplot(scores_df, aes(x='alphas', y='values')) + geom_point() +\\\n",
    "        labs('Regularization parameter, alpha', 'Model -MSE', 'Tests of various alphas wrt MSE')"
   ]
  },
  {
   "cell_type": "code",
   "execution_count": 13,
   "metadata": {
    "collapsed": false
   },
   "outputs": [
    {
     "name": "stdout",
     "output_type": "stream",
     "text": [
      "Train Error:  -5.287543664\n",
      "Train Error using Normal Equation:  -11.1332343165\n",
      "CV Error:  -22.5231231642\n"
     ]
    }
   ],
   "source": [
    "def train_error(X, Y, alpha):\n",
    "    lr_test = Ridge(alpha=alpha)\n",
    "    lr_test.fit(X, Y)\n",
    "    pred = lr_test.predict(X)\n",
    "    submission = lr_test.predict(test)\n",
    "    return score(Y, pred)\n",
    "\n",
    "print(\"Train Error: \", train_error(X, Y, 50))\n",
    "print(\"Train Error using Normal Equation: \", score(Y, beta.dot(X.T)))\n",
    "\n",
    "scores = skcv.cross_val_score(Ridge(alpha=30), X, Y, scoring=scorefun, cv=5)\n",
    "fn_score = np.mean(scores)\n",
    "print(\"CV Error: \", fn_score)"
   ]
  },
  {
   "cell_type": "code",
   "execution_count": 18,
   "metadata": {
    "collapsed": false
   },
   "outputs": [
    {
     "name": "stdout",
     "output_type": "stream",
     "text": [
      "Linear:  -36.2302542393\n",
      "Polynomial:  -20.6614024926\n"
     ]
    }
   ],
   "source": [
    "# Trying SVM with different kernels\n",
    "X = train[:, 2:17]\n",
    "test = test0[:, 1:16]\n",
    "#svr_rbf = SVR(kernel='rbf', C=1e3, gamma=0.1)\n",
    "svr_lin = SVR(kernel='linear', C=1e3)\n",
    "svr_poly = SVR(kernel='poly', C=1e3, degree=2)\n",
    "#y_rbf = svr_rbf.fit(X, Y).predict(X)\n",
    "y_lin = svr_lin.fit(X, Y).predict(X)\n",
    "y_poly = svr_poly.fit(X, Y).predict(X)\n",
    "\n",
    "# Training error\n",
    "#print(\"RBF: \", score(Y, y_rbf))\n",
    "print(\"Linear: \", score(Y, y_lin))\n",
    "print(\"Polynomial: \", score(Y, y_poly))"
   ]
  },
  {
   "cell_type": "code",
   "execution_count": 21,
   "metadata": {
    "collapsed": false
   },
   "outputs": [
    {
     "name": "stdout",
     "output_type": "stream",
     "text": [
      "-36.6960175676\n",
      "-25.4911749267\n"
     ]
    }
   ],
   "source": [
    "# CV errors using SVMs\n",
    "#scores = skcv.cross_val_score(svr_rbf, X, Y, scoring=scorefun, cv=20)\n",
    "#print(np.mean(scores))\n",
    "scores = skcv.cross_val_score(svr_lin, X, Y, scoring=scorefun, cv=5)\n",
    "print(np.mean(scores))\n",
    "scores = skcv.cross_val_score(svr_poly, X, Y, scoring=scorefun, cv=5)\n",
    "print(np.mean(scores))"
   ]
  },
  {
   "cell_type": "code",
   "execution_count": 29,
   "metadata": {
    "collapsed": false
   },
   "outputs": [
    {
     "name": "stdout",
     "output_type": "stream",
     "text": [
      "-35.72144445\n",
      "-35.7822112182\n",
      "-37.0380352545\n",
      "-38.9961651702\n",
      "-46.1476520527\n",
      "-48.6841613562\n",
      "-50.4100887114\n",
      "-50.8303855652\n",
      "-50.9349420922\n",
      "-50.9505868771\n",
      "-50.9499485534\n",
      "-50.9477734535\n",
      "-50.9511048375\n",
      "-50.9390547068\n",
      "-50.951967321\n"
     ]
    }
   ],
   "source": [
    "# Iteration through the list of alphas and generation of accuracy from the testing set\n",
    "alpha_list = [ 0.01, 0.1, 0.5, 1, 5, 10, 30, 50, 75, 100, 135, 150, 200, 300, 1000]\n",
    "scores_df = pd.DataFrame(alpha_list, columns=['alphas'])\n",
    "scores_df['values'] = 1\n",
    "for i, alpha_num in enumerate(alpha_list):\n",
    "    sgd = SGDRegressor(alpha=alpha_num, average=False, epsilon=0.1, eta0=0.01,\n",
    "       fit_intercept=True, l1_ratio=0.25, learning_rate='invscaling',\n",
    "       loss='squared_loss', n_iter=50, penalty='elasticnet', power_t=0.25,\n",
    "       random_state=None, shuffle=True, verbose=0, warm_start=False)\n",
    "\n",
    "    #lr.fit(X, Y)\n",
    "    #Xtrain, Xtest, Ytrain, Ytest = skcv.train_test_split(X, Y, train_size=0.70)\n",
    "    scores = skcv.cross_val_score(sgd, X, Y, scoring=scorefun, cv=50)\n",
    "    fn_score = np.mean(scores)\n",
    "    print(fn_score)\n",
    "    scores_df.iloc[i, 1] = fn_score\n",
    "    "
   ]
  },
  {
   "cell_type": "code",
   "execution_count": 30,
   "metadata": {
    "collapsed": false
   },
   "outputs": [
    {
     "data": {
      "image/png": "[encoded data removed]",
      "text/plain": [
       "<matplotlib.figure.Figure at 0x1180b6950>"
      ]
     },
     "metadata": {},
     "output_type": "display_data"
    },
    {
     "data": {
      "text/plain": [
       "<ggplot: (300995885)>"
      ]
     },
     "execution_count": 30,
     "metadata": {},
     "output_type": "execute_result"
    }
   ],
   "source": [
    "ggplot(scores_df, aes(x='alphas', y='values')) + geom_point() +\\\n",
    "        labs('Regularization parameter, alpha', 'Model MSE', 'Tests of various alphas wrt MSE')"
   ]
  },
  {
   "cell_type": "code",
   "execution_count": 31,
   "metadata": {
    "collapsed": false
   },
   "outputs": [],
   "source": [
    "lr_test = Ridge(alpha=40)\n",
    "lr_test.fit(X, Y)\n",
    "submission = lr_test.predict(test)\n",
    "np.savetxt('first.csv', submission)"
   ]
  },
  {
   "cell_type": "code",
   "execution_count": 34,
   "metadata": {
    "collapsed": false
   },
   "outputs": [],
   "source": [
    "from sklearn.neighbors import KNeighborsRegressor\n",
    "neigh = KNeighborsRegressor()\n",
    "param_grid = {'n_neighbors': [2, 3, 4, 6, 8],\n",
    "             'leaf_size': [2, 5, 10, 30, 70],\n",
    "             'algorithm': ['brute', 'kd_tree'],\n",
    "             'weights': ['uniform', 'distance']}"
   ]
  },
  {
   "cell_type": "code",
   "execution_count": 35,
   "metadata": {
    "collapsed": false
   },
   "outputs": [
    {
     "data": {
      "text/plain": [
       "GridSearchCV(cv=10, error_score='raise',\n",
       "       estimator=KNeighborsRegressor(algorithm='auto', leaf_size=30, metric='minkowski',\n",
       "          metric_params=None, n_jobs=1, n_neighbors=5, p=2,\n",
       "          weights='uniform'),\n",
       "       fit_params={}, iid=True, n_jobs=1,\n",
       "       param_grid={'n_neighbors': [2, 3, 4, 6, 8], 'weights': ['uniform', 'distance'], 'leaf_size': [2, 5, 10, 30, 70], 'algorithm': ['brute', 'kd_tree']},\n",
       "       pre_dispatch='2*n_jobs', refit=True, scoring=make_scorer(<lambda>),\n",
       "       verbose=0)"
      ]
     },
     "execution_count": 35,
     "metadata": {},
     "output_type": "execute_result"
    }
   ],
   "source": [
    "grid_search = skgs.GridSearchCV(neigh, param_grid, scoring=neg_scorefun, cv=10)\n",
    "grid_search.fit(X, Y)"
   ]
  },
  {
   "cell_type": "code",
   "execution_count": 37,
   "metadata": {
    "collapsed": false,
    "scrolled": true
   },
   "outputs": [
    {
     "name": "stdout",
     "output_type": "stream",
     "text": [
      "KNeighborsRegressor(algorithm='brute', leaf_size=2, metric='minkowski',\n",
      "          metric_params=None, n_jobs=1, n_neighbors=2, p=2,\n",
      "          weights='uniform')\n",
      "40.7662766268\n"
     ]
    }
   ],
   "source": [
    "print(grid_search.best_estimator_)\n",
    "print(grid_search.best_score_)\n",
    "#print(grid_search.grid_scores_)"
   ]
  },
  {
   "cell_type": "code",
   "execution_count": null,
   "metadata": {
    "collapsed": true
   },
   "outputs": [],
   "source": []
  }
 ],
 "metadata": {
  "kernelspec": {
   "display_name": "Python 2",
   "language": "python",
   "name": "python2"
  },
  "language_info": {
   "codemirror_mode": {
    "name": "ipython",
    "version": 2
   },
   "file_extension": ".py",
   "mimetype": "text/x-python",
   "name": "python",
   "nbconvert_exporter": "python",
   "pygments_lexer": "ipython2",
   "version": "2.7.11"
  }
 },
 "nbformat": 4,
 "nbformat_minor": 0
}
