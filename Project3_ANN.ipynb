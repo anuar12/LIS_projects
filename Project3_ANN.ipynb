{
 "cells": [
  {
   "cell_type": "code",
   "execution_count": 10,
   "metadata": {
    "collapsed": false
   },
   "outputs": [],
   "source": [
    "%matplotlib inline\n",
    "from __future__ import print_function\n",
    "import numpy as np\n",
    "np.random.seed(1337)  # for reproducibility\n",
    "from sklearn import decomposition\n",
    "import matplotlib.pyplot as plt\n",
    "from ggplot import *\n",
    "import pandas as pd\n",
    "import sklearn.preprocessing as skpr\n",
    "\n",
    "from keras.datasets import mnist\n",
    "from keras.models import Sequential\n",
    "from keras.layers.core import Dense, Dropout, Activation, Flatten\n",
    "from keras.optimizers import SGD, Adam, RMSprop\n",
    "from keras.utils import np_utils\n",
    "from keras.layers.convolutional import Convolution2D, MaxPooling2D, Convolution1D"
   ]
  },
  {
   "cell_type": "code",
   "execution_count": 11,
   "metadata": {
    "collapsed": false
   },
   "outputs": [],
   "source": [
    "train = pd.read_hdf(\"/Users/Anuar_The_Great/desktop/project/3/train.h5\", \"train\")\n",
    "test = pd.read_hdf(\"/Users/Anuar_The_Great/desktop/project/3/test.h5\", \"test\")"
   ]
  },
  {
   "cell_type": "code",
   "execution_count": 12,
   "metadata": {
    "collapsed": false
   },
   "outputs": [
    {
     "name": "stdout",
     "output_type": "stream",
     "text": [
      "(45324, 101)\n",
      "(8137, 100)\n"
     ]
    }
   ],
   "source": [
    "print(train.shape)\n",
    "print(test.shape)"
   ]
  },
  {
   "cell_type": "code",
   "execution_count": 13,
   "metadata": {
    "collapsed": false,
    "scrolled": true
   },
   "outputs": [
    {
     "name": "stdout",
     "output_type": "stream",
     "text": [
      "(40000, 100)\n",
      "(5324, 1)\n",
      "(8137, 100)\n"
     ]
    }
   ],
   "source": [
    "X_train = np.array(train.values)[0:40000, 1:101]\n",
    "Y_train = np.array(train.values)[0:40000, 0].reshape(40000, 1)\n",
    "X_test = np.array(train.values)[40000:, 1:101]\n",
    "Y_test = np.array(train.values)[40000:, 0].reshape(5324, 1)\n",
    "X_test_submit = np.array(test.values)\n",
    "\n",
    "Y_train = Y_train.astype('int')\n",
    "Y_test = Y_test.astype('int')\n",
    "print(X_train.shape)\n",
    "print(Y_test.shape)\n",
    "print(X_test_submit.shape)"
   ]
  },
  {
   "cell_type": "markdown",
   "metadata": {
    "collapsed": false
   },
   "source": [
    "First we tried to build the ANN on the data without the  zero columns, but later we discovered that PCA decomposition produces superior results.\n",
    "Different number of n_components have been chosen, 73 and 89 are the most optimal.\n",
    "After constructing a single ANN, we didn't beat the hard baseline, however, we decided that an \"average\" (ensemble) of several neural nets with different architectures and parameters might produce better results."
   ]
  },
  {
   "cell_type": "code",
   "execution_count": 15,
   "metadata": {
    "collapsed": false
   },
   "outputs": [
    {
     "name": "stdout",
     "output_type": "stream",
     "text": [
      "Size of Xtrain_reduced =  (40000, 89)\n",
      "Size of Xtest_reduced =  (5324, 89)\n",
      "Size of testdata_forprediction =  (8137, 89)\n"
     ]
    }
   ],
   "source": [
    "pca = decomposition.PCA()\n",
    "pca.n_components = 89\n",
    "Xtrain_reduced = pca.fit_transform(X_train)  #This is the one we're going to train on\n",
    "Xtest_reduced = pca.transform(X_test)  #This is the one from the train dataset for testing\n",
    "Xtest_submit_reduced = pca.transform(X_test_submit)\n",
    "testdata_forprediction = pca.transform(np.array(test.values)) \n",
    "print('Size of Xtrain_reduced = ', Xtrain_reduced.shape)\n",
    "print('Size of Xtest_reduced = ', Xtest_reduced.shape)\n",
    "print('Size of testdata_forprediction = ', testdata_forprediction.shape)"
   ]
  },
  {
   "cell_type": "code",
   "execution_count": 16,
   "metadata": {
    "collapsed": false
   },
   "outputs": [],
   "source": [
    "nb_classes = 5\n",
    "batch_size = 128\n",
    "\n",
    "Y_train = np_utils.to_categorical(Y_train, nb_classes)\n",
    "Y_test = np_utils.to_categorical(Y_test, nb_classes)"
   ]
  },
  {
   "cell_type": "code",
   "execution_count": 17,
   "metadata": {
    "collapsed": false,
    "scrolled": true
   },
   "outputs": [
    {
     "name": "stdout",
     "output_type": "stream",
     "text": [
      "____________________________________________________________________________________________________\n",
      "Layer (type)                       Output Shape        Param #     Connected to                     \n",
      "====================================================================================================\n",
      "dense_4 (Dense)                    (None, 512)         46080       dense_input_2[0][0]              \n",
      "____________________________________________________________________________________________________\n",
      "activation_4 (Activation)          (None, 512)         0           dense_4[0][0]                    \n",
      "____________________________________________________________________________________________________\n",
      "dropout_3 (Dropout)                (None, 512)         0           activation_4[0][0]               \n",
      "____________________________________________________________________________________________________\n",
      "dense_5 (Dense)                    (None, 512)         262656      dropout_3[0][0]                  \n",
      "____________________________________________________________________________________________________\n",
      "activation_5 (Activation)          (None, 512)         0           dense_5[0][0]                    \n",
      "____________________________________________________________________________________________________\n",
      "dropout_4 (Dropout)                (None, 512)         0           activation_5[0][0]               \n",
      "____________________________________________________________________________________________________\n",
      "dense_6 (Dense)                    (None, 5)           2565        dropout_4[0][0]                  \n",
      "____________________________________________________________________________________________________\n",
      "activation_6 (Activation)          (None, 5)           0           dense_6[0][0]                    \n",
      "====================================================================================================\n",
      "Total params: 311301\n",
      "____________________________________________________________________________________________________\n"
     ]
    }
   ],
   "source": [
    "model = Sequential()\n",
    "model.add(Dense(512, input_shape=(89,), init='lecun_uniform'))\n",
    "model.add(Activation('relu'))\n",
    "model.add(Dropout(0.4))\n",
    "model.add(Dense(512, init='lecun_uniform'))\n",
    "model.add(Activation('relu'))\n",
    "model.add(Dropout(0.4))\n",
    "model.add(Dense(5, init='lecun_uniform'))\n",
    "model.add(Activation('softmax'))\n",
    "\n",
    "model.summary()"
   ]
  },
  {
   "cell_type": "code",
   "execution_count": 18,
   "metadata": {
    "collapsed": false
   },
   "outputs": [
    {
     "name": "stdout",
     "output_type": "stream",
     "text": [
      "____________________________________________________________________________________________________\n",
      "Layer (type)                       Output Shape        Param #     Connected to                     \n",
      "====================================================================================================\n",
      "dense_7 (Dense)                    (None, 400)         36000       dense_input_3[0][0]              \n",
      "____________________________________________________________________________________________________\n",
      "activation_7 (Activation)          (None, 400)         0           dense_7[0][0]                    \n",
      "____________________________________________________________________________________________________\n",
      "dropout_5 (Dropout)                (None, 400)         0           activation_7[0][0]               \n",
      "____________________________________________________________________________________________________\n",
      "dense_8 (Dense)                    (None, 200)         80200       dropout_5[0][0]                  \n",
      "____________________________________________________________________________________________________\n",
      "activation_8 (Activation)          (None, 200)         0           dense_8[0][0]                    \n",
      "____________________________________________________________________________________________________\n",
      "dropout_6 (Dropout)                (None, 200)         0           activation_8[0][0]               \n",
      "____________________________________________________________________________________________________\n",
      "dense_9 (Dense)                    (None, 5)           1005        dropout_6[0][0]                  \n",
      "____________________________________________________________________________________________________\n",
      "activation_9 (Activation)          (None, 5)           0           dense_9[0][0]                    \n",
      "====================================================================================================\n",
      "Total params: 117205\n",
      "____________________________________________________________________________________________________\n"
     ]
    }
   ],
   "source": [
    "model2 = Sequential()\n",
    "model2.add(Dense(400, input_shape=(89,), init='lecun_uniform'))\n",
    "model2.add(Activation('relu'))\n",
    "model2.add(Dropout(0.4))\n",
    "model2.add(Dense(200, init='lecun_uniform'))\n",
    "model2.add(Activation('relu'))\n",
    "model2.add(Dropout(0.4))\n",
    "model2.add(Dense(5, init='lecun_uniform'))\n",
    "model2.add(Activation('softmax'))\n",
    "\n",
    "model2.summary()"
   ]
  },
  {
   "cell_type": "code",
   "execution_count": 19,
   "metadata": {
    "collapsed": false
   },
   "outputs": [
    {
     "name": "stdout",
     "output_type": "stream",
     "text": [
      "____________________________________________________________________________________________________\n",
      "Layer (type)                       Output Shape        Param #     Connected to                     \n",
      "====================================================================================================\n",
      "dense_10 (Dense)                   (None, 1000)        90000       dense_input_4[0][0]              \n",
      "____________________________________________________________________________________________________\n",
      "activation_10 (Activation)         (None, 1000)        0           dense_10[0][0]                   \n",
      "____________________________________________________________________________________________________\n",
      "dropout_7 (Dropout)                (None, 1000)        0           activation_10[0][0]              \n",
      "____________________________________________________________________________________________________\n",
      "dense_11 (Dense)                   (None, 400)         400400      dropout_7[0][0]                  \n",
      "____________________________________________________________________________________________________\n",
      "activation_11 (Activation)         (None, 400)         0           dense_11[0][0]                   \n",
      "____________________________________________________________________________________________________\n",
      "dropout_8 (Dropout)                (None, 400)         0           activation_11[0][0]              \n",
      "____________________________________________________________________________________________________\n",
      "dense_12 (Dense)                   (None, 5)           2005        dropout_8[0][0]                  \n",
      "____________________________________________________________________________________________________\n",
      "activation_12 (Activation)         (None, 5)           0           dense_12[0][0]                   \n",
      "====================================================================================================\n",
      "Total params: 492405\n",
      "____________________________________________________________________________________________________\n"
     ]
    }
   ],
   "source": [
    "model3 = Sequential()\n",
    "model3.add(Dense(1000, input_shape=(89,), init='lecun_uniform'))\n",
    "model3.add(Activation('relu'))\n",
    "model3.add(Dropout(0.7))\n",
    "model3.add(Dense(400, init='lecun_uniform'))\n",
    "model3.add(Activation('relu'))\n",
    "model3.add(Dropout(0.6))\n",
    "model3.add(Dense(5, init='lecun_uniform'))\n",
    "model3.add(Activation('softmax'))\n",
    "\n",
    "model3.summary()"
   ]
  },
  {
   "cell_type": "code",
   "execution_count": 21,
   "metadata": {
    "collapsed": false
   },
   "outputs": [
    {
     "name": "stdout",
     "output_type": "stream",
     "text": [
      "Train on 40000 samples, validate on 5324 samples\n",
      "Epoch 1/10\n",
      "4s - loss: 0.3320 - acc: 0.8898 - val_loss: 0.2581 - val_acc: 0.9097\n",
      "Epoch 2/10\n",
      "4s - loss: 0.2683 - acc: 0.9097 - val_loss: 0.2158 - val_acc: 0.9269\n",
      "Epoch 3/10\n",
      "6s - loss: 0.2342 - acc: 0.9220 - val_loss: 0.1977 - val_acc: 0.9294\n",
      "Epoch 4/10\n",
      "5s - loss: 0.2106 - acc: 0.9297 - val_loss: 0.1806 - val_acc: 0.9391\n",
      "Epoch 5/10\n",
      "4s - loss: 0.1942 - acc: 0.9347 - val_loss: 0.1697 - val_acc: 0.9448\n",
      "Epoch 6/10\n",
      "5s - loss: 0.1782 - acc: 0.9403 - val_loss: 0.1603 - val_acc: 0.9450\n",
      "Epoch 7/10\n",
      "5s - loss: 0.1690 - acc: 0.9437 - val_loss: 0.1552 - val_acc: 0.9452\n",
      "Epoch 8/10\n",
      "5s - loss: 0.1599 - acc: 0.9461 - val_loss: 0.1529 - val_acc: 0.9478\n",
      "Epoch 9/10\n",
      "4s - loss: 0.1501 - acc: 0.9506 - val_loss: 0.1462 - val_acc: 0.9502\n",
      "Epoch 10/10\n",
      "4s - loss: 0.1442 - acc: 0.9521 - val_loss: 0.1440 - val_acc: 0.9498\n",
      "Test score: 0.143979247659\n",
      "Test accuracy: 0.949849737085\n"
     ]
    }
   ],
   "source": [
    "nb_epoch = 10\n",
    "\n",
    "model.compile(loss='categorical_crossentropy',\n",
    "              optimizer=RMSprop(),\n",
    "              metrics=['accuracy'])\n",
    "# Setting versose=1 has a bug in jupyter notebook\n",
    "history = model.fit(Xtrain_reduced, Y_train,\n",
    "                    batch_size=batch_size, nb_epoch=nb_epoch,\n",
    "                    verbose=2, validation_data=(Xtest_reduced, Y_test), shuffle=True)\n",
    "score = model.evaluate(Xtest_reduced, Y_test, verbose=0)\n",
    "print('Test score:', score[0])\n",
    "print('Test accuracy:', score[1])"
   ]
  },
  {
   "cell_type": "code",
   "execution_count": 22,
   "metadata": {
    "collapsed": false
   },
   "outputs": [
    {
     "name": "stdout",
     "output_type": "stream",
     "text": [
      "Train on 40000 samples, validate on 5324 samples\n",
      "Epoch 1/10\n",
      "2s - loss: 0.5453 - acc: 0.8123 - val_loss: 0.3267 - val_acc: 0.8894\n",
      "Epoch 2/10\n",
      "2s - loss: 0.3339 - acc: 0.8868 - val_loss: 0.2547 - val_acc: 0.9087\n",
      "Epoch 3/10\n",
      "2s - loss: 0.2807 - acc: 0.9067 - val_loss: 0.2231 - val_acc: 0.9198\n",
      "Epoch 4/10\n",
      "2s - loss: 0.2479 - acc: 0.9170 - val_loss: 0.2001 - val_acc: 0.9324\n",
      "Epoch 5/10\n",
      "2s - loss: 0.2274 - acc: 0.9253 - val_loss: 0.1833 - val_acc: 0.9348\n",
      "Epoch 6/10\n",
      "2s - loss: 0.2097 - acc: 0.9306 - val_loss: 0.1781 - val_acc: 0.9386\n",
      "Epoch 7/10\n",
      "1s - loss: 0.1960 - acc: 0.9353 - val_loss: 0.1676 - val_acc: 0.9395\n",
      "Epoch 8/10\n",
      "2s - loss: 0.1877 - acc: 0.9382 - val_loss: 0.1668 - val_acc: 0.9450\n",
      "Epoch 9/10\n",
      "2s - loss: 0.1778 - acc: 0.9402 - val_loss: 0.1593 - val_acc: 0.9455\n",
      "Epoch 10/10\n",
      "1s - loss: 0.1727 - acc: 0.9440 - val_loss: 0.1566 - val_acc: 0.9446\n",
      "Test score: 0.156554451063\n",
      "Test accuracy: 0.944590533478\n"
     ]
    }
   ],
   "source": [
    "nb_epoch = 10\n",
    "\n",
    "model2.compile(loss='categorical_crossentropy',\n",
    "              optimizer=RMSprop(),\n",
    "              metrics=['accuracy'])\n",
    "\n",
    "history = model2.fit(Xtrain_reduced, Y_train,\n",
    "                    batch_size=batch_size, nb_epoch=nb_epoch,\n",
    "                    verbose=2, validation_data=(Xtest_reduced, Y_test), shuffle=True)\n",
    "score = model2.evaluate(Xtest_reduced, Y_test, verbose=0)\n",
    "print('Test score:', score[0])\n",
    "print('Test accuracy:', score[1])"
   ]
  },
  {
   "cell_type": "code",
   "execution_count": 23,
   "metadata": {
    "collapsed": false
   },
   "outputs": [
    {
     "name": "stdout",
     "output_type": "stream",
     "text": [
      "Train on 40000 samples, validate on 5324 samples\n",
      "Epoch 1/10\n",
      "5s - loss: 0.5763 - acc: 0.7931 - val_loss: 0.3394 - val_acc: 0.8854\n",
      "Epoch 2/10\n",
      "5s - loss: 0.3839 - acc: 0.8677 - val_loss: 0.2710 - val_acc: 0.9100\n",
      "Epoch 3/10\n",
      "5s - loss: 0.3281 - acc: 0.8886 - val_loss: 0.2377 - val_acc: 0.9160\n",
      "Epoch 4/10\n",
      "5s - loss: 0.2938 - acc: 0.9032 - val_loss: 0.2141 - val_acc: 0.9251\n",
      "Epoch 5/10\n",
      "5s - loss: 0.2736 - acc: 0.9092 - val_loss: 0.2009 - val_acc: 0.9305\n",
      "Epoch 6/10\n",
      "5s - loss: 0.2558 - acc: 0.9156 - val_loss: 0.1905 - val_acc: 0.9324\n",
      "Epoch 7/10\n",
      "5s - loss: 0.2423 - acc: 0.9211 - val_loss: 0.1836 - val_acc: 0.9361\n",
      "Epoch 8/10\n",
      "5s - loss: 0.2293 - acc: 0.9261 - val_loss: 0.1784 - val_acc: 0.9405\n",
      "Epoch 9/10\n",
      "5s - loss: 0.2201 - acc: 0.9284 - val_loss: 0.1695 - val_acc: 0.9423\n",
      "Epoch 10/10\n",
      "6s - loss: 0.2073 - acc: 0.9316 - val_loss: 0.1693 - val_acc: 0.9421\n",
      "Test score: 0.169306696654\n",
      "Test accuracy: 0.942148760375\n"
     ]
    }
   ],
   "source": [
    "nb_epoch = 10\n",
    "\n",
    "model3.compile(loss='categorical_crossentropy',\n",
    "              optimizer=RMSprop(),\n",
    "              metrics=['accuracy'])\n",
    "\n",
    "history = model3.fit(Xtrain_reduced, Y_train,\n",
    "                    batch_size=batch_size, nb_epoch=nb_epoch,\n",
    "                    verbose=2, validation_data=(Xtest_reduced, Y_test), shuffle=True)\n",
    "score = model3.evaluate(Xtest_reduced, Y_test, verbose=0)\n",
    "print('Test score:', score[0])\n",
    "print('Test accuracy:', score[1])"
   ]
  },
  {
   "cell_type": "code",
   "execution_count": 24,
   "metadata": {
    "collapsed": false
   },
   "outputs": [
    {
     "name": "stdout",
     "output_type": "stream",
     "text": [
      "8137/8137 [==============================] - 0s     \n",
      "8137/8137 [==============================] - 0s     \n",
      "8137/8137 [==============================] - 1s     \n"
     ]
    }
   ],
   "source": [
    "probs1 = model.predict_proba(Xtest_submit_reduced, batch_size=32)\n",
    "probs2 = model2.predict_proba(Xtest_submit_reduced, batch_size=32)\n",
    "probs3 = model3.predict_proba(Xtest_submit_reduced, batch_size=32)\n",
    "\n",
    "# Creating an ensemble of 3 Neural Nets\n",
    "# Takes the max of the Average of probabilities\n",
    "probs = (probs1 + probs2 + probs3)/3\n",
    "output = np.argmax(probs, axis=1)"
   ]
  },
  {
   "cell_type": "code",
   "execution_count": 25,
   "metadata": {
    "collapsed": false
   },
   "outputs": [],
   "source": [
    "# Takes the value of the maximum probability\n",
    "np.fmax(probs1, probs2, probs3)\n",
    "output = np.argmax(np.fmax(probs1, probs2, probs3), axis=1)"
   ]
  },
  {
   "cell_type": "code",
   "execution_count": 26,
   "metadata": {
    "collapsed": false
   },
   "outputs": [],
   "source": [
    "output = output.reshape(8137, 1)\n",
    "range1 = np.array(range(45324, 53461)).reshape(8137, 1)\n",
    "submission = np.hstack((range1, output))\n",
    "np.savetxt('ensemble2.csv', submission, delimiter=',', fmt='%d')"
   ]
  },
  {
   "cell_type": "code",
   "execution_count": 27,
   "metadata": {
    "collapsed": false
   },
   "outputs": [
    {
     "name": "stdout",
     "output_type": "stream",
     "text": [
      "8137/8137 [==============================] - 0s     \n"
     ]
    }
   ],
   "source": [
    "classes = model.predict_classes(Xtest_submit_reduced, batch_size=32)\n",
    "classes = classes.reshape(8137, 1)\n",
    "range1 = np.array(range(45324, 53461)).reshape(8137, 1)\n",
    "submission = np.hstack((range1, classes))\n",
    "np.savetxt('huge_ann8.csv', submission, delimiter=',', fmt='%d')"
   ]
  }
 ],
 "metadata": {
  "kernelspec": {
   "display_name": "Python 2",
   "language": "python",
   "name": "python2"
  },
  "language_info": {
   "codemirror_mode": {
    "name": "ipython",
    "version": 2
   },
   "file_extension": ".py",
   "mimetype": "text/x-python",
   "name": "python",
   "nbconvert_exporter": "python",
   "pygments_lexer": "ipython2",
   "version": "2.7.11"
  }
 },
 "nbformat": 4,
 "nbformat_minor": 0
}
