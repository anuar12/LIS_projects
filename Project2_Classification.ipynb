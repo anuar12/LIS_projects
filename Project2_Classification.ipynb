{
 "cells": [
  {
   "cell_type": "code",
   "execution_count": 1,
   "metadata": {
    "collapsed": false
   },
   "outputs": [
    {
     "name": "stderr",
     "output_type": "stream",
     "text": [
      "/Users/Anuar_The_Great/anaconda/lib/python2.7/site-packages/matplotlib/font_manager.py:273: UserWarning: Matplotlib is building the font cache using fc-list. This may take a moment.\n",
      "  warnings.warn('Matplotlib is building the font cache using fc-list. This may take a moment.')\n"
     ]
    }
   ],
   "source": [
    "%matplotlib inline\n",
    "from ggplot import *\n",
    "from __future__ import print_function\n",
    "import numpy as np\n",
    "from matplotlib import pyplot as plt\n",
    "\n",
    "import sklearn.linear_model as sklin\n",
    "import sklearn.metrics as skmet\n",
    "import sklearn.cross_validation as skcv\n",
    "import sklearn.grid_search as skgs\n",
    "import sklearn.preprocessing as skpr\n",
    "from sklearn.linear_model import LogisticRegressionCV\n",
    "from sklearn import svm"
   ]
  },
  {
   "cell_type": "code",
   "execution_count": 3,
   "metadata": {
    "collapsed": true
   },
   "outputs": [],
   "source": [
    "# Check for the outliers\n",
    "# Look at the input data\n",
    "# Look at the output data\n",
    "# Look at Statistics, e.g. \n",
    "# Check whether features are directly related to the output (subset selection)\n",
    "# Feature Engineer: Polynomial (with interaction terms), Sine, Tan, Log, Exp\n",
    "# Try KNN\n",
    "# Try SVM\n",
    "# Try Logistic Regression\n",
    "# Try Ensemble\n",
    "# Stratified sampling\n",
    "# Log 0,4,5,6,7,12,13, 14"
   ]
  },
  {
   "cell_type": "code",
   "execution_count": 2,
   "metadata": {
    "collapsed": false
   },
   "outputs": [],
   "source": [
    "train = np.loadtxt(open(\"/Users/Anuar_The_Great/Desktop/Project/2/train.csv\", \"rb\"), \n",
    "                    delimiter=\",\", skiprows=1)\n",
    "test = np.loadtxt(open(\"/Users/Anuar_The_Great/Desktop/Project/2/test.csv\", \"rb\"), \n",
    "                    delimiter=\",\", skiprows=1)"
   ]
  },
  {
   "cell_type": "code",
   "execution_count": 3,
   "metadata": {
    "collapsed": false
   },
   "outputs": [
    {
     "name": "stdout",
     "output_type": "stream",
     "text": [
      "X.shape (1000, 15)\n",
      "Y.shape (1000,)\n",
      "test.shape (3000, 15)\n"
     ]
    }
   ],
   "source": [
    "def get_features(data):\n",
    "    return np.hstack((data, np.log(data)))    # You can also do log and interaction terms!\n",
    " \n",
    "X = train[:, 2:17]\n",
    "Y = train[:, 1]\n",
    "test = test[:, 1:16]\n",
    "\n",
    "X = skpr.scale(X)\n",
    "test = skpr.scale(test)\n",
    "\n",
    "#poly = skpr.PolynomialFeatures(degree=3, interaction_only=False)\n",
    "#X = poly.fit_transform(X) \n",
    "#test = poly.fit_transform(test)\n",
    "\n",
    "print('X.shape', X.shape)\n",
    "print('Y.shape', Y.shape)\n",
    "print('test.shape', test.shape)"
   ]
  },
  {
   "cell_type": "code",
   "execution_count": 5,
   "metadata": {
    "collapsed": false
   },
   "outputs": [
    {
     "data": {
      "text/plain": [
       "LogisticRegressionCV(Cs=[1e-06, 1e-05, 0.0001, 0.001, 0.01, 0.1, 1, 10, 100.0, 1000.0, 10000.0, 100000.0],\n",
       "           class_weight=None, cv=5, dual=False, fit_intercept=True,\n",
       "           intercept_scaling=1.0, max_iter=100, multi_class='ovr',\n",
       "           n_jobs=1, penalty='l1', random_state=None, refit=True,\n",
       "           scoring=None, solver='liblinear', tol=0.0001, verbose=0)"
      ]
     },
     "execution_count": 5,
     "metadata": {},
     "output_type": "execute_result"
    }
   ],
   "source": [
    "Css = [1e-6, 1e-5, 1e-4, 1e-3, 1e-2, 0.1, 1, 10, 1e2, 1e3, 1e4, 1e5]\n",
    "lr = LogisticRegressionCV(Cs=Css, cv=5, multi_class='ovr', refit=True, penalty='l1', solver='liblinear')\n",
    "lr.fit(X, Y)"
   ]
  },
  {
   "cell_type": "code",
   "execution_count": 8,
   "metadata": {
    "collapsed": false
   },
   "outputs": [
    {
     "name": "stdout",
     "output_type": "stream",
     "text": [
      "0.87\n",
      "[ 100.  100.  100.]\n"
     ]
    }
   ],
   "source": [
    "print(lr.score(X, Y))\n",
    "print(lr.C_)"
   ]
  },
  {
   "cell_type": "code",
   "execution_count": 20,
   "metadata": {
    "collapsed": false
   },
   "outputs": [
    {
     "name": "stdout",
     "output_type": "stream",
     "text": [
      "LogisticRegressionCV(Cs=10, class_weight=None, cv=5, dual=False,\n",
      "           fit_intercept=True, intercept_scaling=1.0, max_iter=100,\n",
      "           multi_class='ovr', n_jobs=1, penalty='l2', random_state=None,\n",
      "           refit=True, scoring=None, solver='newton-cg', tol=0.0001,\n",
      "           verbose=0)\n",
      "0.863\n"
     ]
    }
   ],
   "source": [
    "lr1 = LogisticRegressionCV(cv=5, refit=True)\n",
    "param_grid = {'Cs': [1, 5, 10, 50],\n",
    "             'penalty': ['l2'],\n",
    "             'multi_class': ['ovr', 'multinomial'],\n",
    "             'solver': ['newton-cg', 'lbfgs']}\n",
    "grid_search = skgs.GridSearchCV(lr1, param_grid, cv=5)\n",
    "grid_search.fit(X, Y)\n",
    "print(grid_search.best_estimator_)\n",
    "print(grid_search.best_score_)"
   ]
  },
  {
   "cell_type": "code",
   "execution_count": 14,
   "metadata": {
    "collapsed": true
   },
   "outputs": [],
   "source": [
    "def my_kernel(X, Y):\n",
    "    return np.dot(X, Y.T) #np.exp(-np.power(np.linalg.norm(X - Y), 2)) "
   ]
  },
  {
   "cell_type": "code",
   "execution_count": 18,
   "metadata": {
    "collapsed": false,
    "scrolled": true
   },
   "outputs": [
    {
     "name": "stdout",
     "output_type": "stream",
     "text": [
      "SVC(C=1.5797894736842104, cache_size=200, class_weight=None, coef0=0.0,\n",
      "  decision_function_shape=None, degree=3, gamma='auto', kernel='poly',\n",
      "  max_iter=-1, probability=False, random_state=None, shrinking=True,\n",
      "  tol=0.001, verbose=False)\n",
      "0.886\n"
     ]
    }
   ],
   "source": [
    "param_grid1 = {'C': np.linspace(0.001, 10, 20)}  \n",
    "param_grid2 = {'C': np.linspace(0.2, 10, 30),\n",
    "              'gamma': np.linspace(0.01, 1, 30)}  \n",
    "param_grid3 = {'C': np.linspace(0.01, 100, 10),\n",
    "              'gamma': np.linspace(0.001, 1, 10),\n",
    "              'degree': [2, 3, 4]}  \n",
    "\n",
    "#svc = svm.SVC(kernel='linear')\n",
    "#rbf_svc = svm.SVC(kernel='rbf', cache_size=300)\n",
    "poly_svc = svm.SVC(kernel='poly')\n",
    "#lin_svc = svm.LinearSVC()\n",
    "\n",
    "grid_search = skgs.GridSearchCV(poly_svc, param_grid1, cv=10)\n",
    "grid_search.fit(X, Y)\n",
    "print(grid_search.best_estimator_)\n",
    "print(grid_search.best_score_)"
   ]
  },
  {
   "cell_type": "code",
   "execution_count": 13,
   "metadata": {
    "collapsed": false
   },
   "outputs": [],
   "source": [
    "#submission = lr.predict(test)\n",
    "submission = grid_search.predict(test)\n",
    "np.savetxt('RBF2.csv', submission)"
   ]
  },
  {
   "cell_type": "code",
   "execution_count": 21,
   "metadata": {
    "collapsed": false
   },
   "outputs": [
    {
     "data": {
      "text/plain": [
       "(array([   7.,   20.,   56.,   84.,  101.,   89.,  115.,  174.,  139.,\n",
       "          91.,   63.,   35.,   16.,    8.,    2.]),\n",
       " array([-2.58218931, -2.20839265, -1.83459599, -1.46079932, -1.08700266,\n",
       "        -0.713206  , -0.33940934,  0.03438733,  0.40818399,  0.78198065,\n",
       "         1.15577731,  1.52957398,  1.90337064,  2.2771673 ,  2.65096396,\n",
       "         3.02476063]),\n",
       " <a list of 15 Patch objects>)"
      ]
     },
     "execution_count": 21,
     "metadata": {},
     "output_type": "execute_result"
    },
    {
     "data": {
      "image/png": "[encoded data removed]",
      "text/plain": [
       "<matplotlib.figure.Figure at 0x117d24b50>"
      ]
     },
     "metadata": {},
     "output_type": "display_data"
    }
   ],
   "source": [
    "plt.hist(X[:,0], bins=15)\n",
    "plt.hist(X[:,1], bins=15)\n",
    "#plt.hist(X[:,2], bins=15)\n",
    "#plt.hist(X[:,3], bins=15)\n"
   ]
  },
  {
   "cell_type": "code",
   "execution_count": 36,
   "metadata": {
    "collapsed": false
   },
   "outputs": [
    {
     "data": {
      "text/plain": [
       "(array([   2.,    3.,    1.,    7.,   17.,   27.,   63.,  116.,  197.,\n",
       "         216.,  196.,  108.,   37.,    7.,    3.]),\n",
       " array([ 2.34943607,  2.79322853,  3.23702099,  3.68081345,  4.12460591,\n",
       "         4.56839837,  5.01219083,  5.45598329,  5.89977575,  6.34356821,\n",
       "         6.78736068,  7.23115314,  7.6749456 ,  8.11873806,  8.56253052,\n",
       "         9.00632298]),\n",
       " <a list of 15 Patch objects>)"
      ]
     },
     "execution_count": 36,
     "metadata": {},
     "output_type": "execute_result"
    },
    {
     "data": {
      "image/png": "[encoded data removed]",
      "text/plain": [
       "<matplotlib.figure.Figure at 0x10f59c790>"
      ]
     },
     "metadata": {},
     "output_type": "display_data"
    }
   ],
   "source": [
    "plt.hist(X[:,4], bins=15)\n",
    "plt.hist(X[:,5], bins=15)\n",
    "plt.hist(X[:,6], bins=15)\n",
    "plt.hist(X[:,7], bins=15)\n"
   ]
  },
  {
   "cell_type": "code",
   "execution_count": 45,
   "metadata": {
    "collapsed": false
   },
   "outputs": [
    {
     "data": {
      "text/plain": [
       "(array([   1.,    2.,    8.,   29.,   71.,   95.,  134.,  154.,  175.,\n",
       "         138.,   93.,   61.,   29.,    6.,    4.]),\n",
       " array([ -7.45798908,  -3.08283938,   1.29231031,   5.66746001,\n",
       "         10.0426097 ,  14.41775939,  18.79290909,  23.16805878,\n",
       "         27.54320847,  31.91835817,  36.29350786,  40.66865755,\n",
       "         45.04380725,  49.41895694,  53.79410663,  58.16925633]),\n",
       " <a list of 15 Patch objects>)"
      ]
     },
     "execution_count": 45,
     "metadata": {},
     "output_type": "execute_result"
    },
    {
     "data": {
      "image/png": "[encoded data removed]",
      "text/plain": [
       "<matplotlib.figure.Figure at 0x11081ea90>"
      ]
     },
     "metadata": {},
     "output_type": "display_data"
    }
   ],
   "source": [
    "plt.hist(X[:,8], bins=15)\n",
    "plt.hist(X[:,9], bins=15)\n",
    "plt.hist(X[:,10], bins=15)\n",
    "plt.hist(X[:,11], bins=15)\n",
    "plt.hist(X[:,12], bins=15)\n"
   ]
  },
  {
   "cell_type": "code",
   "execution_count": 43,
   "metadata": {
    "collapsed": false
   },
   "outputs": [
    {
     "data": {
      "text/plain": [
       "(array([   1.,    1.,    9.,   31.,   73.,  110.,  158.,  177.,  155.,\n",
       "         115.,   81.,   55.,   23.,    8.,    3.]),\n",
       " array([  7.89234527,  10.0654168 ,  12.23848832,  14.41155985,\n",
       "         16.58463138,  18.75770291,  20.93077443,  23.10384596,\n",
       "         25.27691749,  27.44998902,  29.62306054,  31.79613207,\n",
       "         33.9692036 ,  36.14227513,  38.31534665,  40.48841818]),\n",
       " <a list of 15 Patch objects>)"
      ]
     },
     "execution_count": 43,
     "metadata": {},
     "output_type": "execute_result"
    },
    {
     "data": {
      "image/png": "[encoded data removed]",
      "text/plain": [
       "<matplotlib.figure.Figure at 0x111424ed0>"
      ]
     },
     "metadata": {},
     "output_type": "display_data"
    }
   ],
   "source": [
    "#plt.hist(X[:,12], bins=15)\n",
    "plt.hist(X[:,13], bins=15)\n",
    "plt.hist(X[:,14], bins=15)\n"
   ]
  }
 ],
 "metadata": {
  "kernelspec": {
   "display_name": "Python 2",
   "language": "python",
   "name": "python2"
  },
  "language_info": {
   "codemirror_mode": {
    "name": "ipython",
    "version": 2
   },
   "file_extension": ".py",
   "mimetype": "text/x-python",
   "name": "python",
   "nbconvert_exporter": "python",
   "pygments_lexer": "ipython2",
   "version": "2.7.11"
  }
 },
 "nbformat": 4,
 "nbformat_minor": 0
}
